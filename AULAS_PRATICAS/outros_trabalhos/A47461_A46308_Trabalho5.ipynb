{
 "cells": [
  {
   "cell_type": "markdown",
   "metadata": {},
   "source": [
    "# ISEL - CPS \n",
    "## Semestre 2020/21\n",
    "# <br>\n",
    "###  <center> Trabalho Prático </center>\n",
    "# </br>\n",
    "\n",
    "Trabalho realizado por:\n",
    "* Aurizando Silva, <b> 47461 </b>\n",
    "* Diana Silva, numero <b> 46308 </b>\n",
    "\n",
    "data: 28/11/2020"
   ]
  },
  {
   "cell_type": "markdown",
   "metadata": {},
   "source": [
    "A figura representa o esquema típico do processo de envio e recepção de informação usando modulações\n",
    "digitais.\n",
    "\n",
    "![fig_trab](esquemaCPS.png)\n",
    "\n",
    "Este trabalho foca os blocos Deteção e Correção de erros.\n",
    "\n",
    "Considere as funções já criadas em Python das aulas anteriores.\n",
    "\n",
    "Construa uma função Python que dado um Numpy array de $N$ bits, para cada 4 bits gere 7 bits, sendo 3 bits resultado do codigo de Hamming H(7,4).\n",
    "\n"
   ]
  },
  {
   "cell_type": "code",
   "execution_count": 1,
   "metadata": {},
   "outputs": [],
   "source": [
    "import numpy as np\n",
    "import matplotlib.pyplot as plt"
   ]
  },
  {
   "cell_type": "code",
   "execution_count": 24,
   "metadata": {},
   "outputs": [],
   "source": [
    "def Hamming_7_4(arr_bits):\n",
    "    # resposta\n",
    "    #bits_a_descartar = means n is exactly divisible by 4  \n",
    "    \n",
    "    for i in range(0, 5):\n",
    "        if ((len(arr_bits) % 4) != 0):\n",
    "            arr_bits.pop()\n",
    "            #print(i)\n",
    "    \n",
    "    arr_binary = [0] * int(len(arr_bits) * 7 / 4)\n",
    "    indices    = 4\n",
    "    n          = 0\n",
    "    n_dois     = 0\n",
    "    \n",
    "    for i in range(int(len(arr_bits) / 4)):\n",
    "                    \n",
    "        indices = []    \n",
    "        indices.append(n)\n",
    "        n = n+1    \n",
    "        indices.append(n)\n",
    "        n = n+1\n",
    "        indices.append(n)\n",
    "        n = n+1\n",
    "        indices.append(n)\n",
    "        n = n+1\n",
    "        \n",
    "        resultado = []\n",
    "        m = np.take(arr_bits, indices)\n",
    "\n",
    "        #print(m)\n",
    "        #print()\n",
    "        #print(np.shape(m))\n",
    "\n",
    "        p3 = m[2] ^ m[1] ^ m[0]\n",
    "        p2 = m[3] ^ m[1] ^ m[0]\n",
    "        p1 = m[3] ^ m[2] ^ m[0]\n",
    "\n",
    "        c = [m[0], m[1], m[2], p3, m[3], p2, p1]\n",
    "        \n",
    "        for j in range(0, 7):\n",
    "            \n",
    "            arr_binary[n_dois+j] = c[j]\n",
    "        \n",
    "        n_dois = n_dois + 7\n",
    "                            \n",
    "    return arr_binary\n"
   ]
  },
  {
   "cell_type": "code",
   "execution_count": 27,
   "metadata": {},
   "outputs": [
    {
     "name": "stdout",
     "output_type": "stream",
     "text": [
      "[1, 0, 0, 1, 1, 0, 0, 1, 0, 0, 1, 1, 0, 0]\n"
     ]
    }
   ],
   "source": [
    "a = [1, 0, 0, 1, 1, 0, 0, 1]\n",
    "b = Hamming_7_4(a)\n",
    "print(b)"
   ]
  },
  {
   "cell_type": "markdown",
   "metadata": {},
   "source": [
    "Construa uma função que dado um Numpy array M bits, para cada 7 bits detecte e corriga possíveis erros, sendo o resultado 4 bits de mensagem.\n"
   ]
  },
  {
   "cell_type": "code",
   "execution_count": 5,
   "metadata": {},
   "outputs": [],
   "source": [
    "##def Detetor(arr_binary):\n",
    "##    #resposta\n",
    "##    \n",
    "##    tamanho = len(arr_binary)\n",
    "##    resultado = []\n",
    "##    n = 0\n",
    "##    \n",
    "##    for i in range((int)(tamanho/4)):\n",
    "##        \n",
    "##        indices = []    \n",
    "##        indices.append(n)\n",
    "##        n = n+1    \n",
    "##        indices.append(n)\n",
    "##        n = n+1\n",
    "##        indices.append(n)\n",
    "##        n = n+1\n",
    "##        indices.append(n)\n",
    "##        n = n+1\n",
    "##        \n",
    "##        m = np.take(arr_binary, indices)\n",
    "##    \n",
    "##        gm = np.array([[m[0],    0,    0], \n",
    "##                       [   0, m[1],    0],\n",
    "##                       [   0,    0, m[2]],\n",
    "##                       [   0,    0,   0]])\n",
    "##    \n",
    "##        gp = np.array([[m[0], m[0],  m[0]], \n",
    "##                       [m[1], m[1],     0],\n",
    "##                       [m[2],    0,  m[2]],\n",
    "##                       [   0, m[3], m[3]]])    \n",
    "##        \n",
    "##        #divisao por zero e valor invalido encontrados\n",
    "##        Ht = np.divide(gp, gm)\n",
    "##        \n",
    "##        errado = []        \n",
    "##        for i in range(len(aux)):\n",
    "##            if (aux[i] != 0):\n",
    "##                errado.append(i)\n",
    "##                \n",
    "##        if (len(errado) == 0):\n",
    "##            mensagem = np.take(arr_binary, indices)\n",
    "##            resultado.append(c)\n",
    "##        else:\n",
    "##            #informar do erro e ver se da para corrigir \n",
    "##    \n",
    "##    arr_binary = np.array(resultado)\n",
    "##    \n",
    "##    return arr_binary"
   ]
  },
  {
   "cell_type": "code",
   "execution_count": 34,
   "metadata": {},
   "outputs": [],
   "source": [
    "def Detetor(arr_binary):\n",
    "    \n",
    "    arr_bits   = [0] * int(len(arr_binary) /7 * 4)\n",
    "    n          = 0\n",
    "    n_dois     = 0\n",
    "    \n",
    "    for i in range(int(len(arr_binary) / 7)):\n",
    "        \n",
    "        resultado = []\n",
    "        m4 = arr_binary[n + 4]\n",
    "        m3 = arr_binary[n + 2]\n",
    "        m2 = arr_binary[n + 1]\n",
    "        x3 = arr_binary[n + 3]\n",
    "        m1 = arr_binary[n]\n",
    "        x2 = arr_binary[n + 5]\n",
    "        x1 = arr_binary[n + 6]\n",
    "        \n",
    "        p1 = m4 ^ (m1 ^ m3)\n",
    "        p2 = m4 ^ (m1 ^ m2)\n",
    "        p3 = m3 ^ (m1 ^ m2)\n",
    "        \n",
    "        b1 = str((x1 + p1) % 2)\n",
    "        b2 = str((x2 + p2) % 2)\n",
    "        b3 = str((x3 + p3) % 2)\n",
    "        \n",
    "        if(b1 == b2 == b3):\n",
    "            resultado =  [m1, m2, m3, m4]\n",
    "        else:\n",
    "            resultado = [m1, m2, m3, x3, m4, x2, x1]\n",
    "            erro = b3 + b2 + b1\n",
    "            n_erro = 7 - int(erro, 2)\n",
    "            \n",
    "            if(resultado[n_erro] == 1):\n",
    "                resultado[n_erro] = 0\n",
    "            elif (resultado[n_erro] == 0):\n",
    "                resultado[n_erro] = 1\n",
    "            \n",
    "            resultado = [resultado[0], resultado[1], resultado[2], resultado[4]]\n",
    "        \n",
    "        for j in range(0, 4):\n",
    "            arr_bits[n_dois] = resultado[j]\n",
    "            n_dois = n_dois + 1\n",
    "        n = n + 7\n",
    "        \n",
    "    return arr_bits"
   ]
  },
  {
   "cell_type": "markdown",
   "metadata": {},
   "source": [
    "Faça um conjunto de testes para verificar o correto funcionamento das funções."
   ]
  },
  {
   "cell_type": "code",
   "execution_count": 35,
   "metadata": {},
   "outputs": [
    {
     "data": {
      "text/plain": [
       "[1, 0, 0, 1]"
      ]
     },
     "metadata": {},
     "output_type": "display_data"
    },
    {
     "data": {
      "text/plain": [
       "[1, 0, 0, 1]"
      ]
     },
     "metadata": {},
     "output_type": "display_data"
    }
   ],
   "source": [
    "a = [1, 0, 0, 1, 1, 0, 0]\n",
    "display(Detetor(a))\n",
    "b = [1, 1, 0, 1, 1, 0, 0]\n",
    "display(Detetor(b))"
   ]
  }
 ],
 "metadata": {
  "kernelspec": {
   "display_name": "Python 3",
   "language": "python",
   "name": "python3"
  },
  "language_info": {
   "codemirror_mode": {
    "name": "ipython",
    "version": 3
   },
   "file_extension": ".py",
   "mimetype": "text/x-python",
   "name": "python",
   "nbconvert_exporter": "python",
   "pygments_lexer": "ipython3",
   "version": "3.8.3"
  }
 },
 "nbformat": 4,
 "nbformat_minor": 4
}
