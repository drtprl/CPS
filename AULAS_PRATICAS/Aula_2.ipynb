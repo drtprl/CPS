{
 "cells": [
  {
   "cell_type": "markdown",
   "id": "13d8d491",
   "metadata": {},
   "source": [
    "Largura de banda (LB): tem a ver com a banda utilizada, a banda de frequências que o sinal consegue recolher, mas só as larguras positivas porque as negativas do espetro são uma abstração. $LB = f_{max} - f_{min}$ quanto maior, mais bits podemos mandar ao mesmo tempo. <br>\n",
    "O processo de multiplexagem é um processo para colocar mais frequencias num mesmo canal, para isso deve ter a largura suficiente.<br><br>\n",
    "Banda base: a que está mais perto do sinal original. (Ver alising, amostragem) <br><br>\n",
    "$S(t)=A_c Cos(2\\pi f_c t)$<br><br>\n",
    "Os filtro passa baixo não costumam ser ideais por tanto devemos usar uma banda de guarda para não colapsar.\n",
    "\n"
   ]
  },
  {
   "cell_type": "code",
   "execution_count": 19,
   "id": "cc76eabe",
   "metadata": {},
   "outputs": [
    {
     "name": "stdout",
     "output_type": "stream",
     "text": [
      "1\n"
     ]
    },
    {
     "data": {
      "text/plain": [
       "array([-5536], dtype=int16)"
      ]
     },
     "execution_count": 19,
     "metadata": {},
     "output_type": "execute_result"
    }
   ],
   "source": [
    "import numpy as np\n",
    "a = np.array([30000], dtype=\"int16\") # (objeto, tipo codigo ficacao dos dados) Temos de evitar erros com os dataType\n",
    "print(len(a))\n",
    "#a\n",
    "#a*2.\n",
    "a*2\n"
   ]
  },
  {
   "cell_type": "code",
   "execution_count": null,
   "id": "e8334476",
   "metadata": {},
   "outputs": [],
   "source": [
    "#Operacoes sobre arrays numpy criam novos array.np\n",
    "#indexação booleana, o prof mete no moodle I=modulo>1000, no caso do notebook do prof sera encontrar as frequencias maiores\n",
    "#12000"
   ]
  }
 ],
 "metadata": {
  "kernelspec": {
   "display_name": "Python 3",
   "language": "python",
   "name": "python3"
  },
  "language_info": {
   "codemirror_mode": {
    "name": "ipython",
    "version": 3
   },
   "file_extension": ".py",
   "mimetype": "text/x-python",
   "name": "python",
   "nbconvert_exporter": "python",
   "pygments_lexer": "ipython3",
   "version": "3.8.8"
  }
 },
 "nbformat": 4,
 "nbformat_minor": 5
}
