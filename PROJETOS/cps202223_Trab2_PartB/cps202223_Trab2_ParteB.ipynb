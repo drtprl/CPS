{
 "cells": [
  {
   "attachments": {},
   "cell_type": "markdown",
   "metadata": {},
   "source": [
    "# ISEL - CPS \n",
    "## Semestre 2022/23\n",
    "# <br>\n",
    "###  <center> Trabalho Prático 2 Parte B </center>\n",
    "# </br>\n",
    "\n",
    "\n",
    "Trabalho realizado por:\n",
    "* Bárbara Jesus, numero <b> 45108 </b>\n",
    "* João Fernandes, numero <b> 47478 </b>\n",
    "* Duarte Afonso, numero <b> 47736 </b>\n",
    "\n",
    "<b> Turma L33D - Docente Michele Mengucci</b>"
   ]
  },
  {
   "cell_type": "code",
   "execution_count": 173,
   "metadata": {},
   "outputs": [],
   "source": [
    "import numpy as np\n",
    "import matplotlib.pyplot as plt\n",
    "import scipy.io.wavfile as wav\n",
    "import scipy.signal as scisig"
   ]
  },
  {
   "cell_type": "code",
   "execution_count": 174,
   "metadata": {},
   "outputs": [],
   "source": [
    "path_sons = './sons/questao1/'\n",
    "file = 'fonte_mov.wav'\n",
    "Fs, data = wav.read(path_sons + file)"
   ]
  },
  {
   "cell_type": "code",
   "execution_count": 175,
   "metadata": {},
   "outputs": [],
   "source": [
    "def getAudioAng(som, Fs):\n",
    "    canal_L = np.asarray(som[:, 0], dtype = np.int64)\n",
    "    canal_R = np.asarray(som[:, 1], dtype = np.int64)\n",
    "    # Correlação entre os dois canais de audio (esquerdo e direito)\n",
    "    correlacao = scisig.correlate(canal_L, canal_R, mode = 'full')\n",
    "    # Delay entre os dois canais de audio (samples)\n",
    "    atrasoSamples = np.argmax(correlacao) - len(canal_L) + 1\n",
    "    # Delay entre os dois canais de audio (segundos)\n",
    "    atrasoSec = atrasoSamples / Fs\n",
    "    # Velocidade do som\n",
    "    c = 343\n",
    "    # Distância entre ouvidos\n",
    "    d = 0.18\n",
    "    # Ângulo estimado da fonte sonora\n",
    "    teta_rad = np.arcsin(atrasoSec * c / d)\n",
    "    teta_degrees = teta_rad / np.pi * 180\n",
    "    return teta_rad, teta_degrees"
   ]
  },
  {
   "cell_type": "code",
   "execution_count": 176,
   "metadata": {},
   "outputs": [
    {
     "name": "stderr",
     "output_type": "stream",
     "text": [
      "C:\\Users\\JCMF2\\AppData\\Local\\Temp\\ipykernel_27612\\4012677187.py:15: RuntimeWarning: invalid value encountered in arcsin\n",
      "  teta_rad = np.arcsin(atrasoSec * c / d)\n"
     ]
    },
    {
     "data": {
      "text/plain": [
       "(-1.4, 1.4, -1.2, 1.2)"
      ]
     },
     "execution_count": 176,
     "metadata": {},
     "output_type": "execute_result"
    },
    {
     "data": {
      "image/png": "[encoded data removed]",
      "text/plain": [
       "<Figure size 640x480 with 1 Axes>"
      ]
     },
     "metadata": {},
     "output_type": "display_data"
    }
   ],
   "source": [
    "tempSegmento = .25\n",
    "samplesSegmento = Fs * tempSegmento\n",
    "\n",
    "angs = np.empty\n",
    "coorX = np.empty\n",
    "coorY = np.empty\n",
    "\n",
    "# Distância à fonte sonora\n",
    "D = 1\n",
    "\n",
    "for i in np.arange(0, len(data[:, 0]) / samplesSegmento):\n",
    "    sample_L = data[int(i*samplesSegmento):int((i+1)*samplesSegmento), 0]\n",
    "    sample_R = data[int(i*samplesSegmento):int((i+1)*samplesSegmento), 1]\n",
    "    sample = np.array([sample_L, sample_R])\n",
    "    \n",
    "    ang_rad_sample = getAudioAng(sample.T, Fs)[0]\n",
    "    angs = np.append(angs, ang_rad_sample)\n",
    "    coorX = np.append(coorX, D * np.cos(ang_rad_sample))\n",
    "    coorY = np.append(coorY, D * np.sin(ang_rad_sample))\n",
    "    \n",
    "angs = angs[1:]\n",
    "coorX = coorX[1:]\n",
    "coorY = coorY[1:]\n",
    "\n",
    "for i in range(len(coorX)):\n",
    "    plt.plot(coorX[i], coorY[i], '*')\n",
    "plt.plot(0, 0, 'ok')\n",
    "plt.axis([-1.4, 1.4, -1.2, 1.2])"
   ]
  },
  {
   "attachments": {},
   "cell_type": "markdown",
   "metadata": {},
   "source": [
    "# Questão 2\n"
   ]
  },
  {
   "cell_type": "code",
   "execution_count": 177,
   "metadata": {},
   "outputs": [],
   "source": [
    "path_sons = './sons/questao1/'\n",
    "file = 'binaural_ITD_c_Questao1.wav'\n",
    "Fs, data = wav.read(path_sons + file)"
   ]
  },
  {
   "cell_type": "code",
   "execution_count": 178,
   "metadata": {},
   "outputs": [],
   "source": [
    "campo_direto = data[:, 0]"
   ]
  },
  {
   "cell_type": "code",
   "execution_count": 179,
   "metadata": {},
   "outputs": [],
   "source": [
    "def campoReverb_Total(RT60, som, Fs):\n",
    "\n",
    "    if RT60 == 0:\n",
    "        return np.zeros(Fs), som\n",
    "    \n",
    "    n = np.arange(0, 1*Fs)\n",
    "    C = 3*np.log(10/RT60)\n",
    "    beta = np.random.randn(len(n))\n",
    "    \n",
    "    # Room Impulse Response\n",
    "    RIR = beta * np.exp(-C/Fs*n)\n",
    "    RIR = RIR/np.max(np.abs(RIR)) # normaliza a 1\n",
    "    campo_reverb = RIR*2**(15-1) # normaliza a int16\n",
    "    \n",
    "    campo_total = np.convolve(np.asarray(som, dtype=np.int32), np.asarray(campo_reverb[6000:], dtype=np.int32))\n",
    "    campo_total = campo_total/(2**18)\n",
    "    \n",
    "    return campo_reverb, campo_total"
   ]
  },
  {
   "cell_type": "code",
   "execution_count": 180,
   "metadata": {},
   "outputs": [],
   "source": [
    "RT60 = .5\n",
    "som = campo_direto\n",
    "\n",
    "campo_reverb0, campo_total0 = campoReverb_Total(0, campo_direto, Fs)\n",
    "campo_reverb5, campo_total5 = campoReverb_Total(.5, campo_direto, Fs)\n",
    "campo_reverb2, campo_total2 = campoReverb_Total(2, campo_direto, Fs)\n",
    "campo_reverb10, campo_total10 = campoReverb_Total(10, campo_direto, Fs)"
   ]
  },
  {
   "cell_type": "code",
   "execution_count": 181,
   "metadata": {},
   "outputs": [],
   "source": [
    "wav.write('./sons/questao2/campo_direto.wav', Fs, campo_direto.astype(np.int16))\n",
    "wav.write('./sons/questao2/campo_reverb0.wav', Fs, campo_reverb0.astype(np.int16))\n",
    "wav.write('./sons/questao2/campo_total0.wav', Fs, campo_total0.astype(np.int16))\n",
    "wav.write('./sons/questao2/campo_reverb.5.wav', Fs, campo_reverb5.astype(np.int16))\n",
    "wav.write('./sons/questao2/campo_total.5.wav', Fs, campo_total5.astype(np.int16))\n",
    "wav.write('./sons/questao2/campo_reverb2.wav', Fs, campo_reverb2.astype(np.int16))\n",
    "wav.write('./sons/questao2/campo_total2.wav', Fs, campo_total2.astype(np.int16))\n",
    "wav.write('./sons/questao2/campo_reverb10.wav', Fs, campo_reverb10.astype(np.int16))\n",
    "wav.write('./sons/questao2/campo_total10.wav', Fs, campo_total10.astype(np.int16))"
   ]
  },
  {
   "attachments": {},
   "cell_type": "markdown",
   "metadata": {},
   "source": [
    "# Questão 3"
   ]
  },
  {
   "cell_type": "code",
   "execution_count": 182,
   "metadata": {},
   "outputs": [
    {
     "name": "stderr",
     "output_type": "stream",
     "text": [
      "C:\\Users\\JCMF2\\AppData\\Local\\Temp\\ipykernel_27612\\1195586030.py:3: WavFileWarning: Chunk (non-data) not understood, skipping it.\n",
      "  Fs, data = wav.read(path_orquestra + file)\n"
     ]
    },
    {
     "data": {
      "text/plain": [
       "(735745,)"
      ]
     },
     "execution_count": 182,
     "metadata": {},
     "output_type": "execute_result"
    }
   ],
   "source": [
    "path_orquestra = './sons/orquestra/'\n",
    "file = '01_Kick.wav'\n",
    "Fs, data = wav.read(path_orquestra + file)\n",
    "data.shape"
   ]
  },
  {
   "cell_type": "code",
   "execution_count": 183,
   "metadata": {},
   "outputs": [],
   "source": [
    "# Função que muda a direção de uma fonte sonora de acordo com o ângulo pretendido.\n",
    "# O som passado como argumento deve ser monaural e do tipo int32\n",
    "# O ângulo passado deve estar entre -pi e pi (positivo para o lado esquerdo e negativo para o lado direito)\n",
    "# Modos:\n",
    "# direct - o som vai direto da fonte ao ouvido\n",
    "# around - o som contorna a cabeça antes de chegar ao ouvido\n",
    "def changeAudioSourcePos(som, Fs, angle, mode = 'direct'):\n",
    "    \n",
    "    # Velocidade do som\n",
    "    c = 343\n",
    "    # Distância entre ouvidos\n",
    "    d = 0.18\n",
    "    \n",
    "    # Delay entre canais quando o som passa direto da fonte ao ouvido\n",
    "    delay = d * np.sin(angle) / c\n",
    "    if mode == 'around':\n",
    "        # Delay entre canais quando o som contorna a cabeça antes de chegar ao ouvido\n",
    "        delay = (d/2) * (angle + np.sin(angle)) / c\n",
    "\n",
    "    # Delay entre canais (em amostras)\n",
    "    delaySamples = abs(int(delay * Fs))\n",
    "    \n",
    "    canal_0 = som\n",
    "    canal_1 = som\n",
    "    \n",
    "    for i in range(delaySamples):\n",
    "        canal_0 = np.append(canal_0, 0)\n",
    "        canal_1 = np.insert(canal_1, 0, 0)\n",
    "    \n",
    "    # Normalizar a 16 bits\n",
    "    canal_0 = canal_0/(2**16)\n",
    "    canal_1 = canal_1/(2**16)\n",
    "    \n",
    "    # Distinguir esquerda e direita\n",
    "    if angle <= 0:\n",
    "        result = np.array((canal_1.astype(np.int16), canal_0.astype(np.int16)))\n",
    "    else:\n",
    "        result = np.array((canal_0.astype(np.int16), canal_1.astype(np.int16)))\n",
    "    return result.T\n",
    "\n",
    "def changeAngHRTF(som, angle):\n",
    "    path_HRTF = './HRTF/elev0/'\n",
    "    HRTFname = 'H0e'+ '0' + str(abs(angle)) + 'a.wav'\n",
    "    if abs(angle) < 10:\n",
    "        HRTFname = 'H0e'+ '00' + str(abs(angle)) + 'a.wav'\n",
    "    if abs(angle) > 99:\n",
    "        HRTFname = 'H0e' + str(abs(angle)) + 'a.wav'\n",
    "    Fs, hrtf = wav.read(path_HRTF + HRTFname)\n",
    "    \n",
    "    som = np.asarray(som, dtype=np.int32)\n",
    "    hrtf = np.asarray(hrtf, dtype=np.int32)\n",
    "    \n",
    "    canal0 = np.convolve(som, hrtf[:, 0])\n",
    "    canal1 = np.convolve(som, hrtf[:, 1])\n",
    "    \n",
    "    result = np.empty((2, len(canal0)), dtype = np.int32)\n",
    "    \n",
    "    if angle >= 0:\n",
    "        result[0] = canal0 / (2**15)\n",
    "        result[1] = canal1 / (2**15)\n",
    "    else:\n",
    "        result[1] = canal0 / (2**15)\n",
    "        result[0] = canal1 / (2**15)\n",
    "    \n",
    "    return result.T\n",
    "    \n",
    "import os    \n",
    "\n",
    "def getAudioData():\n",
    "    \n",
    "    path_orquestra = './sons/orquestra/'\n",
    "    dataArr = []\n",
    "\n",
    "    for i in os.listdir(path_orquestra):\n",
    "        Fs, data = wav.read(path_orquestra + i)\n",
    "        dataArr.append(data)\n",
    "        \n",
    "    return np.array(dataArr)"
   ]
  },
  {
   "cell_type": "code",
   "execution_count": 184,
   "metadata": {},
   "outputs": [
    {
     "name": "stderr",
     "output_type": "stream",
     "text": [
      "C:\\Users\\JCMF2\\AppData\\Local\\Temp\\ipykernel_27612\\3210011502.py:75: WavFileWarning: Chunk (non-data) not understood, skipping it.\n",
      "  Fs, data = wav.read(path_orquestra + i)\n"
     ]
    }
   ],
   "source": [
    "angles = [0, 45, 90, 135, -45, -90, -180]\n",
    "audios = getAudioData()\n",
    "\n",
    "for i in range(len(angles)):\n",
    "    destination = './sons/questao3/' + str(i+1) + '_' + str(angles[i]) + '.wav'\n",
    "    audio = changeAudioSourcePos(audios[i], 48000, np.deg2rad(angles[i]))\n",
    "    wav.write(destination, 48000, audio)\n",
    "    \n",
    "for i in range(len(angles)):\n",
    "    destination = './sons/questao3/' + str(i+1) + '_a' + str(angles[i]) + '.wav'\n",
    "    audio = changeAudioSourcePos(audios[i], 48000, np.deg2rad(angles[i]), mode = 'around')\n",
    "    wav.write(destination, 48000, audio)\n",
    "    \n",
    "angles = [0, 45, 90, 135, -90, -135, 180]    \n",
    "\n",
    "for i in range(len(angles)):\n",
    "    destination = './sons/questao3/hrtf/hrtf' + str(i+1) + '_' + str(angles[i]) + '.wav'\n",
    "    som = audios[i]\n",
    "    result = changeAngHRTF(som/(2**15), angles[i])\n",
    "    wav.write('./sons/questao3/hrtf/' + str(i+1) + 'hrtf' + str(angles[i]) + '.wav', 48000, result.astype(np.int16))"
   ]
  },
  {
   "cell_type": "code",
   "execution_count": 185,
   "metadata": {},
   "outputs": [],
   "source": [
    "def campoReverbBinaural(RT60, som, Fs):\n",
    "\n",
    "    if RT60 == 0:\n",
    "        return som\n",
    "    \n",
    "    som = som.astype(np.int32)\n",
    "    \n",
    "    n = np.arange(0, 1*Fs)\n",
    "    C = 3*np.log(10/RT60)\n",
    "    beta = np.random.randn(len(n))\n",
    "    \n",
    "    # Room Impulse Response\n",
    "    xRIR = beta * np.exp(-C/Fs*n) \n",
    "\n",
    "    xRIR = xRIR/np.max(np.abs(xRIR)) # normaliza a 1\n",
    "    xRIR = xRIR*2**(15-1) # normaliza a int16\n",
    "\n",
    "    xRIR = np.asarray(xRIR, dtype=np.int32)\n",
    "\n",
    "    canal0 = np.convolve(xRIR[6000:], som[:, 0])\n",
    "    canal1 = np.convolve(xRIR[6000:], som[:, 1])\n",
    "    \n",
    "    campo_reverb = np.empty((2, len(canal0)), dtype=np.int32)\n",
    "\n",
    "    campo_reverb[0] = canal0/(2**15) #Tem que se dividir por metade da gama dinâmica para depois se converter para 16 bits (int16)\n",
    "    campo_reverb[1] = canal1/(2**15)\n",
    "\n",
    "    campo_total = campo_reverb.T\n",
    "    \n",
    "    return campo_total"
   ]
  },
  {
   "cell_type": "code",
   "execution_count": 186,
   "metadata": {},
   "outputs": [],
   "source": [
    "pathHRTF = './sons/questao3/hrtf/'\n",
    "som = wav.read(pathHRTF + '2hrtf45.wav')[1]\n",
    "RT60 = 10\n",
    "result = campoReverbBinaural(RT60, som, 44100)\n",
    "wav.write(pathHRTF + 'rev' + str(RT60) + '.wav',  48000, result.astype(np.int16))"
   ]
  },
  {
   "cell_type": "code",
   "execution_count": 187,
   "metadata": {},
   "outputs": [
    {
     "name": "stderr",
     "output_type": "stream",
     "text": [
      "C:\\Users\\JCMF2\\AppData\\Local\\Temp\\ipykernel_27612\\3318617632.py:3: WavFileWarning: Chunk (non-data) not understood, skipping it.\n",
      "  kick = wav.read('./sons/orquestra/01_Kick.wav')\n"
     ]
    }
   ],
   "source": [
    "pathHRTF = './HRTF/elev0/'\n",
    "angles = [45, 135, -45, -135]\n",
    "kick = wav.read('./sons/orquestra/01_Kick.wav')\n",
    "for i in range(len(angles)):\n",
    "    wav.write('./sons/questao3/hrtf/teste' + str(angles[i]) + '.wav', 48000, changeAngHRTF(kick[1]/(2**15), angles[i]).astype(np.int16))"
   ]
  },
  {
   "cell_type": "code",
   "execution_count": 189,
   "metadata": {},
   "outputs": [],
   "source": [
    "def circularSound(som, starting_angle ,audio_per_round):\n",
    "    \n",
    "    # Número de amostras por ângulo (37 é o número de ficheiros HRTF / ângulos possiveis em meia volta)\n",
    "    # 72 = (36 - 1) * 2 para não repetir um ângulo numa volta completa\n",
    "    samples_per_angle = int(len(som)/(audio_per_round * 72))\n",
    "    \n",
    "    # Garantir que o ângulo é multiplo de 5\n",
    "    angle = starting_angle\n",
    "    result = np.empty((2, len(som)), dtype=np.int32)\n",
    "    \n",
    "    for i in range(0, len(som), samples_per_angle):\n",
    "        soundSlice = changeAngHRTF(som[i:i+samples_per_angle], angle)\n",
    "        \n",
    "        if len(result[0][i:i+len(soundSlice)]) < len(soundSlice[:, 0]):\n",
    "            break\n",
    "        \n",
    "        result[0][i:i+len(soundSlice)] = soundSlice[:, 0]\n",
    "        result[1][i:i+len(soundSlice)] = soundSlice[:, 1]\n",
    "            \n",
    "        angle += 5\n",
    "        if angle == 180:\n",
    "            angle = -180\n",
    "            \n",
    "    return result"
   ]
  },
  {
   "cell_type": "code",
   "execution_count": 203,
   "metadata": {},
   "outputs": [
    {
     "name": "stderr",
     "output_type": "stream",
     "text": [
      "C:\\Users\\JCMF2\\AppData\\Local\\Temp\\ipykernel_27612\\3257354022.py:2: WavFileWarning: Chunk (non-data) not understood, skipping it.\n",
      "  fs, som = wav.read(pathOrq + '01_Kick.wav')\n"
     ]
    },
    {
     "data": {
      "image/png": "[encoded data removed]",
      "text/plain": [
       "<Figure size 640x480 with 1 Axes>"
      ]
     },
     "metadata": {},
     "output_type": "display_data"
    }
   ],
   "source": [
    "pathOrq = './sons/orquestra/'\n",
    "fs, som = wav.read(pathOrq + '01_Kick.wav')\n",
    "around = circularSound(som/(2**15), 0, 1).astype(np.int16)\n",
    "plt.plot(around[1])\n",
    "wav.write('./sons/questao4/around.wav', 48000, around.T)"
   ]
  }
 ],
 "metadata": {
  "kernelspec": {
   "display_name": "Python 3",
   "language": "python",
   "name": "python3"
  },
  "language_info": {
   "codemirror_mode": {
    "name": "ipython",
    "version": 3
   },
   "file_extension": ".py",
   "mimetype": "text/x-python",
   "name": "python",
   "nbconvert_exporter": "python",
   "pygments_lexer": "ipython3",
   "version": "3.10.4"
  },
  "orig_nbformat": 4,
  "vscode": {
   "interpreter": {
    "hash": "79e70ca286a1be08b6e892dbe4c8edf09d131d45103715100ecfce31164593d1"
   }
  }
 },
 "nbformat": 4,
 "nbformat_minor": 2
}
