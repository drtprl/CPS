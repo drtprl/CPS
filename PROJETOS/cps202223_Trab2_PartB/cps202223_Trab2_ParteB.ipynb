{
 "cells": [
  {
   "attachments": {},
   "cell_type": "markdown",
   "metadata": {},
   "source": [
    "# ISEL - CPS \n",
    "## Semestre 2022/23\n",
    "# <br>\n",
    "###  <center> Trabalho Prático 2 Parte B </center>\n",
    "# </br>\n",
    "\n",
    "\n",
    "Trabalho realizado por:\n",
    "* Bárbara Jesus, numero <b> 45108 </b>\n",
    "* João Fernandes, numero <b> 47478 </b>\n",
    "* Duarte Afonso, numero <b> 47736 </b>\n",
    "\n",
    "<b> Turma L33D - Docente Michele Mengucci</b>"
   ]
  },
  {
   "cell_type": "code",
   "execution_count": 2,
   "metadata": {},
   "outputs": [],
   "source": [
    "import numpy as np\n",
    "import matplotlib.pyplot as plt\n",
    "import scipy.io.wavfile as wav\n",
    "import scipy.signal as scisig"
   ]
  },
  {
   "cell_type": "code",
   "execution_count": 3,
   "metadata": {},
   "outputs": [],
   "source": [
    "path_sons = './sons/questao1/'\n",
    "file = 'fonte_mov.wav'\n",
    "Fs, data = wav.read(path_sons + file)"
   ]
  },
  {
   "cell_type": "code",
   "execution_count": 4,
   "metadata": {},
   "outputs": [],
   "source": [
    "def getAudioAng(som, Fs):\n",
    "    canal_L = np.asarray(som[:, 0], dtype = np.int64)\n",
    "    canal_R = np.asarray(som[:, 1], dtype = np.int64)\n",
    "    # Correlação entre os dois canais de audio (esquerdo e direito)\n",
    "    correlacao = scisig.correlate(canal_L, canal_R, mode = 'full')\n",
    "    # Delay entre os dois canais de audio (samples)\n",
    "    atrasoSamples = np.argmax(correlacao) - len(canal_L) + 1\n",
    "    # Delay entre os dois canais de audio (segundos)\n",
    "    atrasoSec = atrasoSamples / Fs\n",
    "    # Velocidade do som\n",
    "    c = 343\n",
    "    # Distância entre ouvidos\n",
    "    d = 0.18\n",
    "    # Ângulo estimado da fonte sonora\n",
    "    teta_rad = np.arcsin(atrasoSec * c / d)\n",
    "    teta_degrees = teta_rad / np.pi * 180\n",
    "    return teta_rad, teta_degrees"
   ]
  },
  {
   "cell_type": "code",
   "execution_count": 5,
   "metadata": {},
   "outputs": [
    {
     "name": "stderr",
     "output_type": "stream",
     "text": [
      "/var/folders/tz/5qpxtf993w7fwm6jwsq4f_mc0000gn/T/ipykernel_23419/2311424451.py:15: RuntimeWarning: invalid value encountered in arcsin\n",
      "  teta_rad = np.arcsin(atrasoSec * c / d)\n"
     ]
    },
    {
     "data": {
      "text/plain": [
       "(-1.4, 1.4, -1.2, 1.2)"
      ]
     },
     "execution_count": 5,
     "metadata": {},
     "output_type": "execute_result"
    },
    {
     "data": {
      "image/png": "[encoded data removed]",
      "text/plain": [
       "<Figure size 432x288 with 1 Axes>"
      ]
     },
     "metadata": {
      "needs_background": "light"
     },
     "output_type": "display_data"
    }
   ],
   "source": [
    "tempSegmento = .25\n",
    "samplesSegmento = Fs * tempSegmento\n",
    "\n",
    "angs = np.empty\n",
    "coorX = np.empty\n",
    "coorY = np.empty\n",
    "\n",
    "# Distância à fonte sonora\n",
    "D = 1\n",
    "\n",
    "for i in np.arange(0, len(data[:, 0]) / samplesSegmento):\n",
    "    sample_L = data[int(i*samplesSegmento):int((i+1)*samplesSegmento), 0]\n",
    "    sample_R = data[int(i*samplesSegmento):int((i+1)*samplesSegmento), 1]\n",
    "    sample = np.array([sample_L, sample_R])\n",
    "    \n",
    "    ang_rad_sample = getAudioAng(sample.T, Fs)[0]\n",
    "    angs = np.append(angs, ang_rad_sample)\n",
    "    coorX = np.append(coorX, D * np.cos(ang_rad_sample))\n",
    "    coorY = np.append(coorY, D * np.sin(ang_rad_sample))\n",
    "    \n",
    "angs = angs[1:]\n",
    "coorX = coorX[1:]\n",
    "coorY = coorY[1:]\n",
    "\n",
    "for i in range(len(coorX)):\n",
    "    plt.plot(coorX[i], coorY[i], '*')\n",
    "plt.plot(0, 0, 'ok')\n",
    "plt.axis([-1.4, 1.4, -1.2, 1.2])"
   ]
  },
  {
   "attachments": {},
   "cell_type": "markdown",
   "metadata": {},
   "source": [
    "# Questão 2\n"
   ]
  },
  {
   "cell_type": "code",
   "execution_count": 6,
   "metadata": {},
   "outputs": [],
   "source": [
    "path_sons = './sons/questao1/'\n",
    "file = 'binaural_ITD_c_Questao1.wav'\n",
    "Fs, data = wav.read(path_sons + file)"
   ]
  },
  {
   "cell_type": "code",
   "execution_count": 7,
   "metadata": {},
   "outputs": [],
   "source": [
    "campo_direto = data[:, 0]"
   ]
  },
  {
   "cell_type": "code",
   "execution_count": 8,
   "metadata": {},
   "outputs": [],
   "source": [
    "def campoReverb_Total(RT60, som, Fs):\n",
    "\n",
    "    if RT60 == 0:\n",
    "        return np.zeros(Fs), som\n",
    "    \n",
    "    n = np.arange(0, 1*Fs)\n",
    "    C = 3*np.log(10/RT60)\n",
    "    beta = np.random.randn(len(n))\n",
    "    \n",
    "    # Room Impulse Response\n",
    "    RIR = beta * np.exp(-C/Fs*n)\n",
    "    RIR = RIR/np.max(np.abs(RIR)) # normaliza a 1\n",
    "    RIR = RIR*2**(15-1) # normaliza a int16\n",
    "    \n",
    "    campo_reverb = np.convolve(np.asarray(som, dtype=np.int32), np.asarray(RIR, dtype=np.int32))\n",
    "    campo_reverb = campo_reverb/(2**18)\n",
    "    \n",
    "    if (len(som) > len(campo_reverb)):\n",
    "        campo_total = campo_reverb + som[:len(campo_reverb)]\n",
    "    else:\n",
    "        campo_total = campo_reverb[:len(som)] + som\n",
    "    \n",
    "    return campo_reverb, campo_total"
   ]
  },
  {
   "cell_type": "code",
   "execution_count": 9,
   "metadata": {},
   "outputs": [],
   "source": [
    "som = campo_direto\n",
    "\n",
    "campo_reverb0, campo_total0 = campoReverb_Total(0, campo_direto, Fs)\n",
    "campo_reverb5, campo_total5 = campoReverb_Total(.5, campo_direto, Fs)\n",
    "campo_reverb2, campo_total2 = campoReverb_Total(2, campo_direto, Fs)\n",
    "campo_reverb10, campo_total10 = campoReverb_Total(10, campo_direto, Fs)"
   ]
  },
  {
   "cell_type": "code",
   "execution_count": 10,
   "metadata": {},
   "outputs": [],
   "source": [
    "wav.write('./sons/questao2/campo_direto.wav', Fs, campo_direto.astype(np.int16))\n",
    "wav.write('./sons/questao2/campo_reverb0.wav', Fs, campo_reverb0.astype(np.int16))\n",
    "wav.write('./sons/questao2/campo_total0.wav', Fs, campo_total0.astype(np.int16))\n",
    "wav.write('./sons/questao2/campo_reverb.5.wav', Fs, campo_reverb5.astype(np.int16))\n",
    "wav.write('./sons/questao2/campo_total.5.wav', Fs, campo_total5.astype(np.int16))\n",
    "wav.write('./sons/questao2/campo_reverb2.wav', Fs, campo_reverb2.astype(np.int16))\n",
    "wav.write('./sons/questao2/campo_total2.wav', Fs, campo_total2.astype(np.int16))\n",
    "wav.write('./sons/questao2/campo_reverb10.wav', Fs, campo_reverb10.astype(np.int16))\n",
    "wav.write('./sons/questao2/campo_total10.wav', Fs, campo_total10.astype(np.int16))"
   ]
  },
  {
   "attachments": {},
   "cell_type": "markdown",
   "metadata": {},
   "source": [
    "# Questão 3"
   ]
  },
  {
   "cell_type": "code",
   "execution_count": 141,
   "metadata": {},
   "outputs": [
    {
     "name": "stderr",
     "output_type": "stream",
     "text": [
      "/var/folders/tz/5qpxtf993w7fwm6jwsq4f_mc0000gn/T/ipykernel_23419/3408854485.py:3: WavFileWarning: Chunk (non-data) not understood, skipping it.\n",
      "  Fs, data = wav.read(path_orquestra + file)\n"
     ]
    }
   ],
   "source": [
    "path_orquestra = './sons/orquestra/'\n",
    "file = '01_Kick.wav'\n",
    "Fs, data = wav.read(path_orquestra + file)"
   ]
  },
  {
   "cell_type": "code",
   "execution_count": 12,
   "metadata": {},
   "outputs": [],
   "source": [
    "# Função que muda a direção de uma fonte sonora de acordo com o ângulo pretendido.\n",
    "# O som passado como argumento deve ser monaural e do tipo int32\n",
    "# O ângulo passado deve estar entre -pi e pi (positivo para o lado esquerdo e negativo para o lado direito)\n",
    "# Modos:\n",
    "# direct - o som vai direto da fonte ao ouvido\n",
    "# around - o som contorna a cabeça antes de chegar ao ouvido\n",
    "def changeAudioSourcePos(som, Fs, angle, mode = 'direct'):\n",
    "    \n",
    "    # Velocidade do som\n",
    "    c = 343\n",
    "    # Distância entre ouvidos\n",
    "    d = 0.18\n",
    "    \n",
    "    # Delay entre canais quando o som passa direto da fonte ao ouvido\n",
    "    delay = d * np.sin(angle) / c\n",
    "    if mode == 'around':\n",
    "        # Delay entre canais quando o som contorna a cabeça antes de chegar ao ouvido\n",
    "        delay = (d/2) * (angle + np.sin(angle)) / c\n",
    "\n",
    "    # Delay entre canais (em amostras)\n",
    "    delaySamples = abs(int(delay * Fs))\n",
    "    \n",
    "    canal_0 = som\n",
    "    canal_1 = som\n",
    "    \n",
    "    for i in range(delaySamples):\n",
    "        canal_0 = np.append(canal_0, 0)\n",
    "        canal_1 = np.insert(canal_1, 0, 0)\n",
    "    \n",
    "    # Normalizar a 16 bits\n",
    "    canal_0 = canal_0/(2**16)\n",
    "    canal_1 = canal_1/(2**16)\n",
    "    \n",
    "    # Distinguir esquerda e direita\n",
    "    if angle <= 0:\n",
    "        result = np.array((canal_1.astype(np.int16), canal_0.astype(np.int16)))\n",
    "    else:\n",
    "        result = np.array((canal_0.astype(np.int16), canal_1.astype(np.int16)))\n",
    "    return result.T\n",
    "\n",
    "def changeAngHRTF(som, angle):\n",
    "    path_HRTF = './HRTF/elev0/'\n",
    "    HRTFname = 'H0e'+ '0' + str(abs(angle)) + 'a.wav'\n",
    "    if abs(angle) < 10:\n",
    "        HRTFname = 'H0e'+ '00' + str(abs(angle)) + 'a.wav'\n",
    "    if abs(angle) > 99:\n",
    "        HRTFname = 'H0e' + str(abs(angle)) + 'a.wav'\n",
    "    Fs, hrtf = wav.read(path_HRTF + HRTFname)\n",
    "    \n",
    "    som = np.asarray(som, dtype=np.int32)\n",
    "    hrtf = np.asarray(hrtf, dtype=np.int32)\n",
    "    \n",
    "    canal0 = np.convolve(som, hrtf[:, 0])\n",
    "    canal1 = np.convolve(som, hrtf[:, 1])\n",
    "    \n",
    "    result = np.empty((2, len(canal0)), dtype = np.int32)\n",
    "    \n",
    "    if angle >= 0:\n",
    "        result[0] = canal0 / (2**15)\n",
    "        result[1] = canal1 / (2**15)\n",
    "    else:\n",
    "        result[1] = canal0 / (2**15)\n",
    "        result[0] = canal1 / (2**15)\n",
    "    \n",
    "    return result.T\n",
    "    \n",
    "import os    \n",
    "\n",
    "def getAudioData():\n",
    "    \n",
    "    path_orquestra = './sons/orquestra/'\n",
    "    dataArr = []\n",
    "\n",
    "    for i in os.listdir(path_orquestra):\n",
    "        Fs, data = wav.read(path_orquestra + i)\n",
    "        dataArr.append(data)\n",
    "        \n",
    "    return np.array(dataArr)"
   ]
  },
  {
   "cell_type": "code",
   "execution_count": 13,
   "metadata": {},
   "outputs": [
    {
     "name": "stderr",
     "output_type": "stream",
     "text": [
      "/var/folders/tz/5qpxtf993w7fwm6jwsq4f_mc0000gn/T/ipykernel_23419/3430778311.py:75: WavFileWarning: Chunk (non-data) not understood, skipping it.\n",
      "  Fs, data = wav.read(path_orquestra + i)\n"
     ]
    }
   ],
   "source": [
    "angles = [0, 45, 90, 135, -45, -90, -180]\n",
    "audios = getAudioData()\n",
    "\n",
    "for i in range(len(angles)):\n",
    "    destination = './sons/questao3/' + str(i+1) + '_' + str(angles[i]) + '.wav'\n",
    "    audio = changeAudioSourcePos(audios[i], 48000, np.deg2rad(angles[i]))\n",
    "    wav.write(destination, 48000, audio)\n",
    "    \n",
    "for i in range(len(angles)):\n",
    "    destination = './sons/questao3/' + str(i+1) + '_a' + str(angles[i]) + '.wav'\n",
    "    audio = changeAudioSourcePos(audios[i], 48000, np.deg2rad(angles[i]), mode = 'around')\n",
    "    wav.write(destination, 48000, audio)\n",
    "    \n",
    "angles = [0, 45, 90, 135, -90, -135, 180]    \n",
    "\n",
    "for i in range(len(angles)):\n",
    "    destination = './sons/questao3/hrtf/hrtf' + str(i+1) + '_' + str(angles[i]) + '.wav'\n",
    "    som = audios[i]\n",
    "    result = changeAngHRTF(som/(2**15), angles[i])\n",
    "    wav.write('./sons/questao3/hrtf/' + str(i+1) + 'hrtf' + str(angles[i]) + '.wav', 48000, result.astype(np.int16))"
   ]
  },
  {
   "cell_type": "code",
   "execution_count": 14,
   "metadata": {},
   "outputs": [],
   "source": [
    "def campoReverbBinaural(RT60, som, Fs):\n",
    "\n",
    "    if RT60 == 0:\n",
    "        return som\n",
    "    \n",
    "    som = som.astype(np.int32)\n",
    "    \n",
    "    n = np.arange(0, 1*Fs)\n",
    "    C = 3*np.log(10/RT60)\n",
    "    beta = np.random.randn(len(n))\n",
    "    \n",
    "    # Room Impulse Response\n",
    "    xRIR = beta * np.exp(-C/Fs*n) \n",
    "\n",
    "    xRIR = xRIR/np.max(np.abs(xRIR)) # normaliza a 1\n",
    "    xRIR = xRIR*2**(15-1) # normaliza a int16\n",
    "\n",
    "    xRIR = np.asarray(xRIR, dtype=np.int32)\n",
    "\n",
    "    canal0 = np.convolve(xRIR[6000:], som[:, 0])\n",
    "    canal1 = np.convolve(xRIR[6000:], som[:, 1])\n",
    "    \n",
    "    campo_reverb = np.empty((2, len(canal0)), dtype=np.int32)\n",
    "\n",
    "    campo_reverb[0] = canal0/(2**15) #Tem que se dividir por metade da gama dinâmica para depois se converter para 16 bits (int16)\n",
    "    campo_reverb[1] = canal1/(2**15)\n",
    "\n",
    "    campo_total = campo_reverb.T\n",
    "    \n",
    "    return campo_total"
   ]
  },
  {
   "cell_type": "code",
   "execution_count": 15,
   "metadata": {},
   "outputs": [],
   "source": [
    "pathHRTF = './sons/questao3/hrtf/'\n",
    "som = wav.read(pathHRTF + '2hrtf45.wav')[1]\n",
    "RT60 = 10\n",
    "result = campoReverbBinaural(RT60, som, 44100)\n",
    "wav.write(pathHRTF + 'rev' + str(RT60) + '.wav',  48000, result.astype(np.int16))"
   ]
  },
  {
   "cell_type": "code",
   "execution_count": 16,
   "metadata": {},
   "outputs": [
    {
     "name": "stderr",
     "output_type": "stream",
     "text": [
      "/var/folders/tz/5qpxtf993w7fwm6jwsq4f_mc0000gn/T/ipykernel_23419/3318617632.py:3: WavFileWarning: Chunk (non-data) not understood, skipping it.\n",
      "  kick = wav.read('./sons/orquestra/01_Kick.wav')\n"
     ]
    }
   ],
   "source": [
    "pathHRTF = './HRTF/elev0/'\n",
    "angles = [45, 135, -45, -135]\n",
    "kick = wav.read('./sons/orquestra/01_Kick.wav')\n",
    "for i in range(len(angles)):\n",
    "    wav.write('./sons/questao3/hrtf/teste' + str(angles[i]) + '.wav', 48000, changeAngHRTF(kick[1]/(2**15), angles[i]).astype(np.int16))"
   ]
  },
  {
   "cell_type": "code",
   "execution_count": 92,
   "metadata": {},
   "outputs": [],
   "source": [
    "def mergeSounds(sounds):\n",
    "    \n",
    "    result = sounds[0]\n",
    "    \n",
    "    for sound in sounds:\n",
    "        result += sound\n",
    "    \n",
    "    return result\n",
    "\n",
    "path = './sons/questao3/hrtf/'\n",
    "fs, kick = wav.read(path + '1hrtf0.wav')\n",
    "fs, snare = wav.read(path + '2hrtf45.wav')\n",
    "fs, over = wav.read(path + '3hrtf90.wav')\n",
    "fs, perc = wav.read(path + '4hrtf135.wav')\n",
    "fs, bass = wav.read(path + '5hrtf-90.wav')\n",
    "fs, gtr = wav.read(path + '6hrtf-135.wav')\n",
    "fs, voice = wav.read(path + '7hrtf180.wav')\n",
    "\n",
    "# Para mute comentar o que deve estar em mute\n",
    "sounds = [kick, \n",
    "          snare, \n",
    "          over, \n",
    "          perc, \n",
    "          bass, \n",
    "          #gtr, \n",
    "          voice]\n",
    "result = mergeSounds(sounds)\n",
    "\n",
    "wav.write('./sons/questao3/banda_a_volta.wav', 48000, result.astype(np.int16))"
   ]
  },
  {
   "cell_type": "code",
   "execution_count": 18,
   "metadata": {},
   "outputs": [],
   "source": [
    "def circularSound(som, starting_angle ,audio_per_round):\n",
    "    \n",
    "    # Número de amostras por ângulo (37 é o número de ficheiros HRTF / ângulos possiveis em meia volta)\n",
    "    # 72 = (36 - 1) * 2 para não repetir um ângulo numa volta completa\n",
    "    samples_per_angle = int(len(som)/(audio_per_round * 72))\n",
    "    \n",
    "    # Garantir que o ângulo é multiplo de 5\n",
    "    angle = starting_angle\n",
    "    result = np.empty((2, len(som)), dtype=np.int32)\n",
    "    \n",
    "    for i in range(0, len(som), samples_per_angle):\n",
    "        soundSlice = changeAngHRTF(som[i:i+samples_per_angle], angle)\n",
    "        \n",
    "        if len(result[0][i:i+len(soundSlice)]) < len(soundSlice[:, 0]):\n",
    "            break\n",
    "        \n",
    "        result[0][i:i+len(soundSlice)] = soundSlice[:, 0]\n",
    "        result[1][i:i+len(soundSlice)] = soundSlice[:, 1]\n",
    "            \n",
    "        angle += 5\n",
    "        if angle >= 180:\n",
    "            angle = -180\n",
    "            \n",
    "    return result"
   ]
  },
  {
   "cell_type": "code",
   "execution_count": 140,
   "metadata": {},
   "outputs": [
    {
     "name": "stderr",
     "output_type": "stream",
     "text": [
      "/var/folders/tz/5qpxtf993w7fwm6jwsq4f_mc0000gn/T/ipykernel_23419/318043990.py:2: WavFileWarning: Chunk (non-data) not understood, skipping it.\n",
      "  fs, kick = wav.read(pathOrq + '01_Kick.wav')\n",
      "/var/folders/tz/5qpxtf993w7fwm6jwsq4f_mc0000gn/T/ipykernel_23419/318043990.py:3: WavFileWarning: Chunk (non-data) not understood, skipping it.\n",
      "  fs, snare = wav.read(pathOrq + '02_Snare.wav')\n",
      "/var/folders/tz/5qpxtf993w7fwm6jwsq4f_mc0000gn/T/ipykernel_23419/318043990.py:4: WavFileWarning: Chunk (non-data) not understood, skipping it.\n",
      "  fs, over = wav.read(pathOrq + '03_Overheads.wav')\n",
      "/var/folders/tz/5qpxtf993w7fwm6jwsq4f_mc0000gn/T/ipykernel_23419/318043990.py:5: WavFileWarning: Chunk (non-data) not understood, skipping it.\n",
      "  fs, perc = wav.read(pathOrq + '04_Percussion.wav')\n",
      "/var/folders/tz/5qpxtf993w7fwm6jwsq4f_mc0000gn/T/ipykernel_23419/318043990.py:6: WavFileWarning: Chunk (non-data) not understood, skipping it.\n",
      "  fs, bass = wav.read(pathOrq + '05_Bass.wav')\n",
      "/var/folders/tz/5qpxtf993w7fwm6jwsq4f_mc0000gn/T/ipykernel_23419/318043990.py:7: WavFileWarning: Chunk (non-data) not understood, skipping it.\n",
      "  fs, gtr = wav.read(pathOrq + '06_Gtr.wav')\n",
      "/var/folders/tz/5qpxtf993w7fwm6jwsq4f_mc0000gn/T/ipykernel_23419/318043990.py:8: WavFileWarning: Chunk (non-data) not understood, skipping it.\n",
      "  fs, voice = wav.read(pathOrq + '07_LeadVox.wav')\n"
     ]
    }
   ],
   "source": [
    "pathOrq = './sons/orquestra/'\n",
    "fs, kick = wav.read(pathOrq + '01_Kick.wav')\n",
    "fs, snare = wav.read(pathOrq + '02_Snare.wav')\n",
    "fs, over = wav.read(pathOrq + '03_Overheads.wav')\n",
    "fs, perc = wav.read(pathOrq + '04_Percussion.wav')\n",
    "fs, bass = wav.read(pathOrq + '05_Bass.wav')\n",
    "fs, gtr = wav.read(pathOrq + '06_Gtr.wav')\n",
    "fs, voice = wav.read(pathOrq + '07_LeadVox.wav')\n",
    "\n",
    "# Para mute comentar o que deve estar em mute\n",
    "angles = [#-120, \n",
    "          -40, \n",
    "          -15, \n",
    "          45, \n",
    "          60, \n",
    "          90, \n",
    "          180]\n",
    "\n",
    "sounds = [kick, \n",
    "          snare,\n",
    "          over, \n",
    "          perc, \n",
    "          #bass,\n",
    "          gtr, \n",
    "          voice\n",
    "          ]\n",
    "\n",
    "for i in range(len(angles)):\n",
    "    sounds[i] = circularSound(sounds[i]/(2**15), angles[i], 2).astype(np.int16)\n",
    "\n",
    "result = mergeSounds(sounds)\n",
    "wav.write('./sons/questao4/spinning.wav', 48000, result.T.astype(np.int16))"
   ]
  },
  {
   "attachments": {},
   "cell_type": "markdown",
   "metadata": {},
   "source": [
    "## Questão 5"
   ]
  },
  {
   "cell_type": "code",
   "execution_count": 56,
   "metadata": {},
   "outputs": [],
   "source": [
    "import numpy as np\n",
    "import matplotlib.pyplot as plt\n",
    "\n",
    "def Quantific(R,Vmax,Qtype):\n",
    "    \n",
    "    L = 2**R #Níveis de quantificação\n",
    "    deltaQ = (2*Vmax)/L #Intervalo de quantificação\n",
    "    \n",
    "    if Qtype == 'midrise':\n",
    "        Dq = np.arange(-Vmax, Vmax+deltaQ, deltaQ)\n",
    "        Vq = np.arange(-Vmax+(deltaQ/2), Vmax, deltaQ)\n",
    "    \n",
    "    elif Qtype == 'midtread':\n",
    "        Dq = np.arange(-Vmax+(deltaQ/2), Vmax, deltaQ)\n",
    "        Vq = np.arange(-Vmax, Vmax+deltaQ, deltaQ)\n",
    "    \n",
    "    return Vq, Dq\n",
    "\n",
    "def Quantificador(x, Vq, Dq):\n",
    "    xq = []\n",
    "    iq = []\n",
    "\n",
    "    for n in range(len(x)):\n",
    "        for val in range(len(Dq)):\n",
    "            if x[n] <= Dq[val]:\n",
    "                if val == 0:\n",
    "                    xq.append(Vq[val])\n",
    "                    iq.append(val)\n",
    "                else:\n",
    "                    xq.append(Vq[val-1])\n",
    "                    iq.append(val-1)\n",
    "                break\n",
    "        \n",
    "    return xq, iq\n",
    "\n",
    "def Codific(arr_signal_quantized,R):\n",
    "\n",
    "    arr_binary = []\n",
    "    \n",
    "    getbinary = lambda x, n: format(x, 'b').zfill(n)\n",
    "\n",
    "    for value in range(len(arr_signal_quantized)):\n",
    "        tmp = getbinary(arr_signal_quantized[value], R)\n",
    "        for cod in tmp: \n",
    "            arr_binary.append(int(cod))   \n",
    "        \n",
    "    return arr_binary\n",
    "\n",
    "def Descodific(arr_binary,R):\n",
    "    \n",
    "    arr_signal = []\n",
    "    \n",
    "    for value in range(int(len(arr_binary)/R)):\n",
    "        bits = ''\n",
    "        for num in arr_binary[value:value+R]:\n",
    "            bits += str(int(num)) \n",
    "        \n",
    "        arr_signal.append(int(bits, 2))\n",
    "\n",
    "    return arr_signal\n"
   ]
  },
  {
   "cell_type": "code",
   "execution_count": 121,
   "metadata": {},
   "outputs": [],
   "source": [
    "# Código de Gray com 4 bits\n",
    "codGray16 = np.array([[0,0,0,0],\n",
    "                      [0,0,0,1],\n",
    "                      [0,0,1,1],\n",
    "                      [0,0,1,0],\n",
    "                      [0,1,1,0],\n",
    "                      [0,1,1,1],\n",
    "                      [0,1,0,1],\n",
    "                      [0,1,0,0],\n",
    "                      [1,1,0,0],\n",
    "                      [1,1,0,1],\n",
    "                      [1,1,1,1],\n",
    "                      [1,1,1,0],\n",
    "                      [1,0,1,0],\n",
    "                      [1,0,1,1],\n",
    "                      [1,0,0,1],\n",
    "                      [1,0,0,0]])\n",
    "\n",
    "# Frequência de amostragem\n",
    "Fs = 48000\n",
    "\n",
    "# Número de períodos da portadora por simbolo\n",
    "N = 1\n",
    "\n",
    "def mod_MPSK(bits, Eb, k, P=8):\n",
    "\n",
    "    # Número de simbolos a transmitir\n",
    "    M = 2**k\n",
    "    \n",
    "    # Frequência da portadora\n",
    "    fc = N * Fs / P\n",
    "    # Amplitude da portadora\n",
    "    A = np.sqrt(2 * Eb / P)\n",
    "    \n",
    "    # Tempo discreto\n",
    "    n = np.arange(0, P)\n",
    "    \n",
    "    carrier = A * np.cos(2 * np.pi * fc * (n / Fs))\n",
    "    \n",
    "    # Fase do primeiro simbolo\n",
    "    first_symbol_phase = 0\n",
    "    # Fase entre simbolos\n",
    "    phase_between_symbols = 2 * np.pi / M\n",
    "    \n",
    "    cos_symbols = np.zeros(M * P)\n",
    "\n",
    "    sinal = np.zeros(int((len(bits)//k) * P))\n",
    "    \n",
    "    phase = np.arange(0, 2 * np.pi, phase_between_symbols)\n",
    "    \n",
    "    # Sinal modulado\n",
    "    for i in range(int(len(bits)//k)):\n",
    "        for index in range(len(codGray16)):\n",
    "            if np.array_equal(bits[i*k:i*k+k], codGray16[index]):\n",
    "                sinal[i*P:(i+1)*P] = A * np.cos(2 * np.pi * fc * (n / Fs) + phase[index])\n",
    "\n",
    "    return sinal\n",
    "\n",
    "\n",
    "def receptor(sinal, k, P=8):\n",
    "    \n",
    "    M = 2**k\n",
    "    \n",
    "    phase_between_symbols = 2 * np.pi / M\n",
    "    \n",
    "    # Tempo discreto\n",
    "    n = np.arange(0, P)\n",
    "    \n",
    "    # Frequência da portadora\n",
    "    fc = N * Fs / P\n",
    "    \n",
    "    # Regiões de decisão\n",
    "    reg_decisao = np.arange(0 + phase_between_symbols / 2, 2 * np.pi, phase_between_symbols)\n",
    "    \n",
    "    bitsEstimados = np.zeros((len(sinal)//P) * k)\n",
    "    \n",
    "    compIQ = np.array([np.zeros(len(sinal)//P), np.zeros(len(sinal)//P)])\n",
    "    \n",
    "    # Para cada simbolo\n",
    "    for i in range(len(sinal) // P):\n",
    "        \n",
    "        # Componente em fase do sinal\n",
    "        SI = np.sum(np.cos(2 * np.pi * fc * (n / Fs)) * sinal[i*P:i*P+P])\n",
    "        \n",
    "        # Componente em quadratura do sinal\n",
    "        SQ = np.sum(-np.sin(2 * np.pi * (fc / Fs) * n) * sinal[i*P:i*P+P])\n",
    "        \n",
    "        # Fase do sinal\n",
    "        phase = np.arctan(SQ/SI)\n",
    "        if SI < 0:\n",
    "            phase += np.pi\n",
    "        if phase < 0:\n",
    "            phase += 2 * np.pi\n",
    "        \n",
    "        # Amplitude do sinal\n",
    "        A = np.sqrt(SI**2 + SQ**2)\n",
    "        \n",
    "        index = len(reg_decisao[phase > reg_decisao])\n",
    "        if index > 15:\n",
    "            index = 0\n",
    "        \n",
    "        bitsEstimados[i*k:(i+1)*k] = codGray16[index]\n",
    "        \n",
    "        compIQ[0][i] = SI\n",
    "        compIQ[1][i] = SQ\n",
    "\n",
    "    return bitsEstimados, compIQ"
   ]
  },
  {
   "cell_type": "code",
   "execution_count": 132,
   "metadata": {},
   "outputs": [],
   "source": [
    "pathOrq = './sons/questao4/'\n",
    "fs, som = wav.read(pathOrq + 'spinning.wav')\n",
    "\n",
    "R = 4\n",
    "Vmax = np.max(abs(som[:,0]))\n",
    "Vq, Dq = Quantific(R,Vmax,'midrise')\n",
    "\n",
    "canal0 = som[:,0]\n",
    "canal1 = som[:,1]\n",
    "\n",
    "xq0, iq0 = Quantificador(canal0, Vq, Dq)\n",
    "canal0Cod = Codific(iq0, R)\n",
    "xq1, iq1 = Quantificador(canal1, Vq, Dq)\n",
    "canal1Cod = Codific(iq1, R)"
   ]
  },
  {
   "cell_type": "code",
   "execution_count": 133,
   "metadata": {},
   "outputs": [],
   "source": [
    "Eb = 0.005\n",
    "sinalCanal0 = mod_MPSK(canal0Cod, Eb, R)\n",
    "sinalCanal1 = mod_MPSK(canal1Cod, Eb, R)"
   ]
  },
  {
   "cell_type": "code",
   "execution_count": 134,
   "metadata": {},
   "outputs": [],
   "source": [
    "bitsCanal0, _ = receptor(sinalCanal0, R)\n",
    "bitsCanal1, _ = receptor(sinalCanal1, R)"
   ]
  },
  {
   "cell_type": "code",
   "execution_count": 139,
   "metadata": {},
   "outputs": [],
   "source": [
    "descodCanal0 = Descodific(bitsCanal0, R)\n",
    "descodCanal1 = Descodific(bitsCanal1, R)"
   ]
  },
  {
   "cell_type": "code",
   "execution_count": 136,
   "metadata": {},
   "outputs": [],
   "source": [
    "sinal0 = []\n",
    "sinal1 = []\n",
    "\n",
    "for index in descodCanal0:\n",
    "    sinal0.append(Vq[index])\n",
    "    sinal1.append(Vq[index])\n",
    "    \n",
    "final = np.array((np.array(sinal0), np.array(sinal1)))\n",
    "wav.write('./sons/questao5/final.wav', 48000, final.T.astype(np.int16))"
   ]
  }
 ],
 "metadata": {
  "kernelspec": {
   "display_name": "base",
   "language": "python",
   "name": "python3"
  },
  "language_info": {
   "codemirror_mode": {
    "name": "ipython",
    "version": 3
   },
   "file_extension": ".py",
   "mimetype": "text/x-python",
   "name": "python",
   "nbconvert_exporter": "python",
   "pygments_lexer": "ipython3",
   "version": "3.9.7"
  },
  "orig_nbformat": 4,
  "vscode": {
   "interpreter": {
    "hash": "760190a6f59758a6006501155ccae2e2dd00e7f5b746bc8f3b108aab03e000f4"
   }
  }
 },
 "nbformat": 4,
 "nbformat_minor": 2
}
