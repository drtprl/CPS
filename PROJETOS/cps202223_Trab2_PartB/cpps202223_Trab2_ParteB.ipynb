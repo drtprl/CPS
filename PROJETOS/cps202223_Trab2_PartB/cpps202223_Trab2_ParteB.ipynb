{
 "cells": [
  {
   "attachments": {},
   "cell_type": "markdown",
   "metadata": {},
   "source": [
    "# ISEL - CPS \n",
    "## Semestre 2022/23\n",
    "# <br>\n",
    "###  <center> Trabalho Prático 2 Parte B </center>\n",
    "# </br>\n",
    "\n",
    "\n",
    "Trabalho realizado por:\n",
    "* Bárbara Jesus, numero <b> 45108 </b>\n",
    "* João Fernandes, numero <b> 47478 </b>\n",
    "* Duarte Afonso, numero <b> 47736 </b>\n",
    "\n",
    "<b> Turma L33D - Docente Michele Mengucci</b>"
   ]
  },
  {
   "cell_type": "code",
   "execution_count": 5,
   "metadata": {},
   "outputs": [],
   "source": [
    "import numpy as np\n",
    "import matplotlib.pyplot as plt\n",
    "import scipy.io.wavfile as wav\n",
    "import scipy.signal as scisig"
   ]
  },
  {
   "cell_type": "code",
   "execution_count": 9,
   "metadata": {},
   "outputs": [
    {
     "name": "stdout",
     "output_type": "stream",
     "text": [
      "48000\n",
      "[  0   0   0 ... -23 -24 -24]\n",
      "[  0   0   0 ... -16 -16 -14]\n"
     ]
    }
   ],
   "source": [
    "path_sons = './sons/'\n",
    "file = 'fonte_mov.wav'\n",
    "Fs, data = wav.read(path_sons + file)\n",
    "\n",
    "print(Fs)\n",
    "canal_1 = data[:, 0]\n",
    "canal_2 = data[:, 1]\n",
    "print(canal_1)\n",
    "print(canal_2)\n",
    "\n",
    "canal_1 = np.asarray(canal_1, dtype = np.int64)\n",
    "canal_2 = np.asarray(canal_2, dtype = np.int64)"
   ]
  },
  {
   "cell_type": "code",
   "execution_count": 11,
   "metadata": {},
   "outputs": [
    {
     "data": {
      "text/plain": [
       "0.0002708333333333333"
      ]
     },
     "execution_count": 11,
     "metadata": {},
     "output_type": "execute_result"
    }
   ],
   "source": [
    "corr = scisig.correlate(canal_1, canal_2, mode = 'full')\n",
    "\n",
    "atrasoSamples = np.argmax(corr) - len(canal_1) + 1\n",
    "atrasoSec = atrasoSamples / Fs\n",
    "atrasoSec"
   ]
  },
  {
   "cell_type": "code",
   "execution_count": null,
   "metadata": {},
   "outputs": [],
   "source": [
    "c = 343\n",
    "d = 0.18\n",
    "teta_rad = np.arcsin(atrasoSec * c / d % 1)"
   ]
  }
 ],
 "metadata": {
  "kernelspec": {
   "display_name": "Python 3",
   "language": "python",
   "name": "python3"
  },
  "language_info": {
   "codemirror_mode": {
    "name": "ipython",
    "version": 3
   },
   "file_extension": ".py",
   "mimetype": "text/x-python",
   "name": "python",
   "nbconvert_exporter": "python",
   "pygments_lexer": "ipython3",
   "version": "3.10.4"
  },
  "orig_nbformat": 4,
  "vscode": {
   "interpreter": {
    "hash": "79e70ca286a1be08b6e892dbe4c8edf09d131d45103715100ecfce31164593d1"
   }
  }
 },
 "nbformat": 4,
 "nbformat_minor": 2
}
