{
 "cells": [
  {
   "attachments": {},
   "cell_type": "markdown",
   "metadata": {},
   "source": [
    "# ISEL - CPS \n",
    "## Semestre 2022/23\n",
    "# <br>\n",
    "###  <center> Trabalho Prático 2 Parte B </center>\n",
    "# </br>\n",
    "\n",
    "\n",
    "Trabalho realizado por:\n",
    "* Bárbara Jesus, numero <b> 45108 </b>\n",
    "* João Fernandes, numero <b> 47478 </b>\n",
    "* Duarte Afonso, numero <b> 47736 </b>\n",
    "\n",
    "<b> Turma L33D - Docente Michele Mengucci</b>"
   ]
  },
  {
   "cell_type": "code",
   "execution_count": 238,
   "metadata": {},
   "outputs": [],
   "source": [
    "import numpy as np\n",
    "import matplotlib.pyplot as plt\n",
    "import scipy.io.wavfile as wav\n",
    "import scipy.signal as scisig"
   ]
  },
  {
   "cell_type": "code",
   "execution_count": 239,
   "metadata": {},
   "outputs": [],
   "source": [
    "path_sons = './sons/'\n",
    "file = 'fonte_mov.wav'\n",
    "Fs, data = wav.read(path_sons + file)"
   ]
  },
  {
   "cell_type": "code",
   "execution_count": 240,
   "metadata": {},
   "outputs": [],
   "source": [
    "def getAudioAng(som, Fs):\n",
    "    canal_L = np.asarray(som[:, 0], dtype = np.int64)\n",
    "    canal_R = np.asarray(som[:, 1], dtype = np.int64)\n",
    "    # Correlação entre os dois canais de audio (esquerdo e direito)\n",
    "    correlacao = scisig.correlate(canal_L, canal_R, mode = 'full')\n",
    "    # Delay entre os dois canais de audio (samples)\n",
    "    atrasoSamples = np.argmax(correlacao) - len(canal_L) + 1\n",
    "    # Delay entre os dois canais de audio (segundos)\n",
    "    atrasoSec = atrasoSamples / Fs\n",
    "    # Velocidade do som\n",
    "    c = 343\n",
    "    # Distância entre ouvidos\n",
    "    d = 0.18\n",
    "    # Ângulo estimado da fonte sonora\n",
    "    teta_rad = np.arcsin(atrasoSec * c / d)\n",
    "    teta_degrees = teta_rad / np.pi * 180\n",
    "    return teta_rad, teta_degrees"
   ]
  },
  {
   "cell_type": "code",
   "execution_count": 241,
   "metadata": {},
   "outputs": [
    {
     "data": {
      "text/plain": [
       "(-1.4, 1.4, -1.2, 1.2)"
      ]
     },
     "execution_count": 241,
     "metadata": {},
     "output_type": "execute_result"
    },
    {
     "data": {
      "image/png": "[encoded data removed]",
      "text/plain": [
       "<Figure size 640x480 with 1 Axes>"
      ]
     },
     "metadata": {},
     "output_type": "display_data"
    }
   ],
   "source": [
    "tempSegmento = .25\n",
    "samplesSegmento = Fs * tempSegmento\n",
    "\n",
    "angs = np.empty\n",
    "coorX = np.empty\n",
    "coorY = np.empty\n",
    "\n",
    "# Distância à fonte sonora\n",
    "D = 1\n",
    "\n",
    "#corr = scisig.correlate(np.asarray(data[0:samplesSegmento, 0], dtype=np.int64), np.asarray(data[0:samplesSegmento, 1], dtype=np.int64), mode='full')\n",
    "#print(np.max(corr), np.min(corr))\n",
    "#plt.plot(corr)\n",
    "#\n",
    "#sample_L = data[0:samplesSegmento, 0]\n",
    "#sample_R = data[0:samplesSegmento, 1]\n",
    "#sample = np.array([sample_L, sample_R])\n",
    "#sample = np.transpose(sample)\n",
    "#corr = scisig.correlate(np.asarray(sample[:, 0], dtype=np.int64), np.asarray(sample[:, 1], dtype=np.int64), mode='full')\n",
    "#print(np.max(corr), np.min(corr))\n",
    "#plt.plot(corr)\n",
    "\n",
    "for i in np.arange(0, len(data[:, 0]) / samplesSegmento):\n",
    "    sample_L = data[int(i*samplesSegmento):int((i+1)*samplesSegmento), 0]\n",
    "    sample_R = data[int(i*samplesSegmento):int((i+1)*samplesSegmento), 1]\n",
    "    sample = np.array([sample_L, sample_R])\n",
    "    \n",
    "    ang_rad_sample = getAudioAng(sample.T, Fs)[0]\n",
    "    angs = np.append(angs, ang_rad_sample)\n",
    "    coorX = np.append(coorX, D * np.cos(ang_rad_sample))\n",
    "    coorY = np.append(coorY, D * np.sin(ang_rad_sample))\n",
    "    \n",
    "angs = angs[1:]\n",
    "coorX = coorX[1:]\n",
    "coorY = coorY[1:]\n",
    "\n",
    "for i in range(len(coorX)):\n",
    "    plt.plot(coorY[i], coorX[i], '*')\n",
    "plt.plot(0, 0, 'ok')\n",
    "plt.axis([-1.4, 1.4, -1.2, 1.2])"
   ]
  },
  {
   "attachments": {},
   "cell_type": "markdown",
   "metadata": {},
   "source": [
    "# Questão 2\n"
   ]
  },
  {
   "cell_type": "code",
   "execution_count": 242,
   "metadata": {},
   "outputs": [],
   "source": [
    "path_sons = './sons/'\n",
    "file = 'binaural_ITD_c_Questao1.wav'\n",
    "Fs, data = wav.read(path_sons + file)"
   ]
  },
  {
   "cell_type": "code",
   "execution_count": null,
   "metadata": {},
   "outputs": [],
   "source": [
    "campo_direto = data[:, 0]"
   ]
  }
 ],
 "metadata": {
  "kernelspec": {
   "display_name": "Python 3",
   "language": "python",
   "name": "python3"
  },
  "language_info": {
   "codemirror_mode": {
    "name": "ipython",
    "version": 3
   },
   "file_extension": ".py",
   "mimetype": "text/x-python",
   "name": "python",
   "nbconvert_exporter": "python",
   "pygments_lexer": "ipython3",
   "version": "3.10.4"
  },
  "orig_nbformat": 4,
  "vscode": {
   "interpreter": {
    "hash": "79e70ca286a1be08b6e892dbe4c8edf09d131d45103715100ecfce31164593d1"
   }
  }
 },
 "nbformat": 4,
 "nbformat_minor": 2
}
